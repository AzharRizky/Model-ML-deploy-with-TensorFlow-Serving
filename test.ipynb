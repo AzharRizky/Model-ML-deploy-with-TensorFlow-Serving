{
 "cells": [
  {
   "cell_type": "code",
   "execution_count": 1,
   "metadata": {},
   "outputs": [
    {
     "name": "stdout",
     "output_type": "stream",
     "text": [
      "Rock\n"
     ]
    }
   ],
   "source": [
    "import requests\n",
    "import tensorflow as tf\n",
    "\n",
    "\n",
    "filename = 'images\\Batu_b.jpg'\n",
    "\n",
    "def images_preprocessing(filename):\n",
    "    \n",
    "    image = tf.io.decode_image(open(filename, 'rb').read(), channels=3)\n",
    "    image = tf.image.resize(image, [150, 150])\n",
    "    image = image/255.\n",
    "    \n",
    "    image_tensor = tf.expand_dims(image, 0)\n",
    "    image_tensor = image_tensor.numpy().tolist()\n",
    "    \n",
    "    return image_tensor\n",
    "\n",
    "# Prepare the data that is going to be sent in the POST request\n",
    "image_tensor = images_preprocessing(filename=filename)\n",
    "json_data = {\n",
    "    \"instances\": image_tensor\n",
    "}\n",
    "\n",
    "# Define the endpoint with format: http://localhost:8501/v1/models/MODEL_NAME:predict\n",
    "endpoint = \"http://localhost:8501/v1/models/rps_model:predict\"\n",
    "\n",
    "# Send the request to the Prediction API\n",
    "response = requests.post(endpoint, json=json_data)\n",
    "\n",
    "map_labels = {0: \"Paper\", 1: \"Rock\", 2: \"Scissors\"}\n",
    "prediction = tf.argmax(response.json()['predictions'][0]).numpy()\n",
    "print(map_labels[prediction])\n"
   ]
  }
 ],
 "metadata": {
  "interpreter": {
   "hash": "bec548f1eaa5f791e61300a57b6bdf324df859493cf8e5c89b07d9effee2d662"
  },
  "kernelspec": {
   "display_name": "Python 3.8.8 64-bit ('base': conda)",
   "name": "python3"
  },
  "language_info": {
   "codemirror_mode": {
    "name": "ipython",
    "version": 3
   },
   "file_extension": ".py",
   "mimetype": "text/x-python",
   "name": "python",
   "nbconvert_exporter": "python",
   "pygments_lexer": "ipython3",
   "version": "3.8.8"
  },
  "orig_nbformat": 4
 },
 "nbformat": 4,
 "nbformat_minor": 2
}
